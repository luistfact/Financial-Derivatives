{
  "cells": [
    {
      "cell_type": "markdown",
      "metadata": {},
      "source": [
        "# Clase Estrategia_ MAs"
      ]
    },
    {
      "cell_type": "code",
      "execution_count": 1,
      "metadata": {
        "id": "Is3pvpkBGzzo"
      },
      "outputs": [],
      "source": [
        "#Librerías a utilizar\n",
        "import yfinance as yf\n",
        "import pandas as pd\n",
        "import pandas_ta as ta\n",
        "import plotly.graph_objects as go\n",
        "import numpy as np"
      ]
    },
    {
      "cell_type": "code",
      "execution_count": 2,
      "metadata": {
        "id": "YALchGw8Gz5R"
      },
      "outputs": [],
      "source": [
        "#Definir Ticker\n",
        "Ticker='AMZN'\n",
        "\n",
        "#Definir la comision de Compra / Venta\n",
        "Comision=0.0025 #Comisión de 0.25% por compra o venta de casa de bolsa"
      ]
    },
    {
      "cell_type": "code",
      "execution_count": 3,
      "metadata": {
        "id": "JjckXl3BGz8a"
      },
      "outputs": [],
      "source": [
        "#Definición de funciones a utilizar\n",
        "\n",
        "#Función de extracción de información de Yahoo Finance de 1 mes cada 60 minutos\n",
        "def get_data(symbol: str):\n",
        "    data=yf.download(tickers=symbol, period='44d', interval='60m')\n",
        "    data.reset_index(inplace=True)\n",
        "    return data\n",
        "\n",
        "# Función para calcular el Promedio Móvil\n",
        "def calculate_sma(data, length: int):\n",
        "    return ta.sma(data['Close'], length)\n",
        "\n",
        "# Función para determinar la tendencia - equilibrada\n",
        "def determine_trend(data):\n",
        "    if data['SMA_10']>data['SMA_20']>data['SMA_30']:\n",
        "        return 2 # Tendencia de Alza\n",
        "    elif data['SMA_10']<data['SMA_20']<data['SMA_30']:\n",
        "        return 1 # Tendencia de Baja\n",
        "    else:\n",
        "        return 0 # Sin tendencia definida\n",
        "    \n",
        "    # Funcion para Calcular el RSI (Relative Strength Index) \n",
        "    # Se utiliza en los mercados como un indicador de Sobrecompra o Sobreventa \n",
        "    # Valores Por arriba del 70% indican que esta en un territorio de sobrecompra \n",
        "    # Valores Por abajo  del 30% indican que esta en un territorio de sobreventa   \n",
        "def rsi(DF,n=20):\n",
        "    df=DF.copy()\n",
        "    df['dif']=df['Close']-df['Close'].shift(1)\n",
        "    df['gain']=np.where(df['dif']>=0,df['dif'],0)\n",
        "    df['loss']=np.where(df['dif']<0,abs(df['dif']),0)\n",
        "    average_gain=[]\n",
        "    average_loss=[]\n",
        "    gain=df['gain'].tolist()\n",
        "    loss=df['loss'].tolist()\n",
        "    for i in range(len(df)):\n",
        "        if i < n:\n",
        "            average_gain.append(np.NaN)\n",
        "            average_loss.append(np.NaN)\n",
        "        elif i==n:\n",
        "            average_gain.append(df['gain'].rolling(n).mean()[n])\n",
        "            average_loss.append(df['loss'].rolling(n).mean()[n])\n",
        "        elif i > n:\n",
        "            average_gain.append(((n-1)*average_gain[i-1]+gain[i])/n)\n",
        "            average_loss.append(((n-1)*average_loss[i-1]+loss[i])/n)\n",
        "    df['average_gain']=np.array(average_gain)\n",
        "    df['average_loss']=np.array(average_loss)\n",
        "    df['RS']=df['average_gain']/df['average_loss']\n",
        "    df['RSI']=100-(100/(1+df['RS']))\n",
        "    return df['RSI']\n"
      ]
    },
    {
      "cell_type": "code",
      "execution_count": 4,
      "metadata": {
        "colab": {
          "base_uri": "https://localhost:8080/"
        },
        "id": "QGY5WkI1JaM8",
        "outputId": "110972fb-9828-447d-88bf-3c430df28e12"
      },
      "outputs": [
        {
          "name": "stdout",
          "output_type": "stream",
          "text": [
            "YF.download() has changed argument auto_adjust default to True\n"
          ]
        },
        {
          "name": "stderr",
          "output_type": "stream",
          "text": [
            "[*********************100%***********************]  1 of 1 completed\n"
          ]
        }
      ],
      "source": [
        "#Obtener la información de Yahoo Finance y renombrar columnas\n",
        "data=get_data(Ticker)\n",
        "data=data.set_axis(['Datetime','Close','High','Low','Open','Volume'], axis=1)\n",
        "\n",
        "#Calcular los promedios moviles para los ultimos 10, 20 y 30  valores de la columa 'Close' y se agregan al data frame\n",
        "data['SMA_10']=calculate_sma(data,10)\n",
        "data['SMA_20']=calculate_sma(data,20)\n",
        "data['SMA_30']=calculate_sma(data,30)"
      ]
    },
    {
      "cell_type": "code",
      "execution_count": 5,
      "metadata": {
        "id": "EGQSJEUhJaSA"
      },
      "outputs": [],
      "source": [
        "# Determinar la tendencia en una nueva columna del dataframe\n",
        "data['Tendencia']=data.apply(determine_trend,axis=1)"
      ]
    },
    {
      "cell_type": "code",
      "execution_count": 6,
      "metadata": {},
      "outputs": [
        {
          "data": {
            "text/html": [
              "<div>\n",
              "<style scoped>\n",
              "    .dataframe tbody tr th:only-of-type {\n",
              "        vertical-align: middle;\n",
              "    }\n",
              "\n",
              "    .dataframe tbody tr th {\n",
              "        vertical-align: top;\n",
              "    }\n",
              "\n",
              "    .dataframe thead th {\n",
              "        text-align: right;\n",
              "    }\n",
              "</style>\n",
              "<table border=\"1\" class=\"dataframe\">\n",
              "  <thead>\n",
              "    <tr style=\"text-align: right;\">\n",
              "      <th></th>\n",
              "      <th>Datetime</th>\n",
              "      <th>Close</th>\n",
              "      <th>High</th>\n",
              "      <th>Low</th>\n",
              "      <th>Open</th>\n",
              "      <th>Volume</th>\n",
              "      <th>SMA_10</th>\n",
              "      <th>SMA_20</th>\n",
              "      <th>SMA_30</th>\n",
              "      <th>Tendencia</th>\n",
              "      <th>RSI</th>\n",
              "    </tr>\n",
              "  </thead>\n",
              "  <tbody>\n",
              "    <tr>\n",
              "      <th>0</th>\n",
              "      <td>2025-01-08 14:30:00+00:00</td>\n",
              "      <td>220.679993</td>\n",
              "      <td>223.164993</td>\n",
              "      <td>220.199997</td>\n",
              "      <td>223.149994</td>\n",
              "      <td>5235909</td>\n",
              "      <td>NaN</td>\n",
              "      <td>NaN</td>\n",
              "      <td>NaN</td>\n",
              "      <td>0</td>\n",
              "      <td>NaN</td>\n",
              "    </tr>\n",
              "    <tr>\n",
              "      <th>1</th>\n",
              "      <td>2025-01-08 15:30:00+00:00</td>\n",
              "      <td>221.529999</td>\n",
              "      <td>222.145004</td>\n",
              "      <td>220.660004</td>\n",
              "      <td>220.660004</td>\n",
              "      <td>2143742</td>\n",
              "      <td>NaN</td>\n",
              "      <td>NaN</td>\n",
              "      <td>NaN</td>\n",
              "      <td>0</td>\n",
              "      <td>NaN</td>\n",
              "    </tr>\n",
              "    <tr>\n",
              "      <th>2</th>\n",
              "      <td>2025-01-08 16:30:00+00:00</td>\n",
              "      <td>220.559998</td>\n",
              "      <td>222.740005</td>\n",
              "      <td>220.440094</td>\n",
              "      <td>221.524994</td>\n",
              "      <td>1877635</td>\n",
              "      <td>NaN</td>\n",
              "      <td>NaN</td>\n",
              "      <td>NaN</td>\n",
              "      <td>0</td>\n",
              "      <td>NaN</td>\n",
              "    </tr>\n",
              "    <tr>\n",
              "      <th>3</th>\n",
              "      <td>2025-01-08 17:30:00+00:00</td>\n",
              "      <td>222.910004</td>\n",
              "      <td>223.110001</td>\n",
              "      <td>220.320007</td>\n",
              "      <td>220.580002</td>\n",
              "      <td>1738913</td>\n",
              "      <td>NaN</td>\n",
              "      <td>NaN</td>\n",
              "      <td>NaN</td>\n",
              "      <td>0</td>\n",
              "      <td>NaN</td>\n",
              "    </tr>\n",
              "    <tr>\n",
              "      <th>4</th>\n",
              "      <td>2025-01-08 18:30:00+00:00</td>\n",
              "      <td>223.350006</td>\n",
              "      <td>223.520004</td>\n",
              "      <td>221.639999</td>\n",
              "      <td>222.889999</td>\n",
              "      <td>2218310</td>\n",
              "      <td>NaN</td>\n",
              "      <td>NaN</td>\n",
              "      <td>NaN</td>\n",
              "      <td>0</td>\n",
              "      <td>NaN</td>\n",
              "    </tr>\n",
              "    <tr>\n",
              "      <th>...</th>\n",
              "      <td>...</td>\n",
              "      <td>...</td>\n",
              "      <td>...</td>\n",
              "      <td>...</td>\n",
              "      <td>...</td>\n",
              "      <td>...</td>\n",
              "      <td>...</td>\n",
              "      <td>...</td>\n",
              "      <td>...</td>\n",
              "      <td>...</td>\n",
              "      <td>...</td>\n",
              "    </tr>\n",
              "    <tr>\n",
              "      <th>303</th>\n",
              "      <td>2025-03-13 15:30:00+00:00</td>\n",
              "      <td>193.710007</td>\n",
              "      <td>195.500000</td>\n",
              "      <td>193.494995</td>\n",
              "      <td>194.831207</td>\n",
              "      <td>4338810</td>\n",
              "      <td>197.572841</td>\n",
              "      <td>196.525206</td>\n",
              "      <td>196.310870</td>\n",
              "      <td>2</td>\n",
              "      <td>41.314580</td>\n",
              "    </tr>\n",
              "    <tr>\n",
              "      <th>304</th>\n",
              "      <td>2025-03-13 16:30:00+00:00</td>\n",
              "      <td>192.539993</td>\n",
              "      <td>194.429993</td>\n",
              "      <td>191.820007</td>\n",
              "      <td>193.679993</td>\n",
              "      <td>4723846</td>\n",
              "      <td>196.967841</td>\n",
              "      <td>196.534921</td>\n",
              "      <td>196.244704</td>\n",
              "      <td>2</td>\n",
              "      <td>39.661708</td>\n",
              "    </tr>\n",
              "    <tr>\n",
              "      <th>305</th>\n",
              "      <td>2025-03-13 17:30:00+00:00</td>\n",
              "      <td>193.899994</td>\n",
              "      <td>193.960007</td>\n",
              "      <td>191.910004</td>\n",
              "      <td>192.500000</td>\n",
              "      <td>3869215</td>\n",
              "      <td>196.679340</td>\n",
              "      <td>196.575920</td>\n",
              "      <td>196.244037</td>\n",
              "      <td>2</td>\n",
              "      <td>42.477486</td>\n",
              "    </tr>\n",
              "    <tr>\n",
              "      <th>306</th>\n",
              "      <td>2025-03-13 18:30:00+00:00</td>\n",
              "      <td>193.059998</td>\n",
              "      <td>194.559998</td>\n",
              "      <td>192.880005</td>\n",
              "      <td>193.910004</td>\n",
              "      <td>3308906</td>\n",
              "      <td>196.033339</td>\n",
              "      <td>196.495920</td>\n",
              "      <td>196.107367</td>\n",
              "      <td>0</td>\n",
              "      <td>41.226656</td>\n",
              "    </tr>\n",
              "    <tr>\n",
              "      <th>307</th>\n",
              "      <td>2025-03-13 19:30:00+00:00</td>\n",
              "      <td>193.910004</td>\n",
              "      <td>193.979996</td>\n",
              "      <td>192.860001</td>\n",
              "      <td>193.070007</td>\n",
              "      <td>4333815</td>\n",
              "      <td>195.481000</td>\n",
              "      <td>196.417670</td>\n",
              "      <td>195.893200</td>\n",
              "      <td>0</td>\n",
              "      <td>43.014082</td>\n",
              "    </tr>\n",
              "  </tbody>\n",
              "</table>\n",
              "<p>308 rows × 11 columns</p>\n",
              "</div>"
            ],
            "text/plain": [
              "                     Datetime       Close        High         Low        Open  \\\n",
              "0   2025-01-08 14:30:00+00:00  220.679993  223.164993  220.199997  223.149994   \n",
              "1   2025-01-08 15:30:00+00:00  221.529999  222.145004  220.660004  220.660004   \n",
              "2   2025-01-08 16:30:00+00:00  220.559998  222.740005  220.440094  221.524994   \n",
              "3   2025-01-08 17:30:00+00:00  222.910004  223.110001  220.320007  220.580002   \n",
              "4   2025-01-08 18:30:00+00:00  223.350006  223.520004  221.639999  222.889999   \n",
              "..                        ...         ...         ...         ...         ...   \n",
              "303 2025-03-13 15:30:00+00:00  193.710007  195.500000  193.494995  194.831207   \n",
              "304 2025-03-13 16:30:00+00:00  192.539993  194.429993  191.820007  193.679993   \n",
              "305 2025-03-13 17:30:00+00:00  193.899994  193.960007  191.910004  192.500000   \n",
              "306 2025-03-13 18:30:00+00:00  193.059998  194.559998  192.880005  193.910004   \n",
              "307 2025-03-13 19:30:00+00:00  193.910004  193.979996  192.860001  193.070007   \n",
              "\n",
              "      Volume      SMA_10      SMA_20      SMA_30  Tendencia        RSI  \n",
              "0    5235909         NaN         NaN         NaN          0        NaN  \n",
              "1    2143742         NaN         NaN         NaN          0        NaN  \n",
              "2    1877635         NaN         NaN         NaN          0        NaN  \n",
              "3    1738913         NaN         NaN         NaN          0        NaN  \n",
              "4    2218310         NaN         NaN         NaN          0        NaN  \n",
              "..       ...         ...         ...         ...        ...        ...  \n",
              "303  4338810  197.572841  196.525206  196.310870          2  41.314580  \n",
              "304  4723846  196.967841  196.534921  196.244704          2  39.661708  \n",
              "305  3869215  196.679340  196.575920  196.244037          2  42.477486  \n",
              "306  3308906  196.033339  196.495920  196.107367          0  41.226656  \n",
              "307  4333815  195.481000  196.417670  195.893200          0  43.014082  \n",
              "\n",
              "[308 rows x 11 columns]"
            ]
          },
          "execution_count": 6,
          "metadata": {},
          "output_type": "execute_result"
        }
      ],
      "source": [
        "# Se calcula el RSI y se integra al data frame\n",
        "RSI_data=rsi(data,n=20)\n",
        "data=pd.concat([data,RSI_data], axis=1)\n",
        "data"
      ]
    },
    {
      "cell_type": "code",
      "execution_count": 7,
      "metadata": {
        "colab": {
          "base_uri": "https://localhost:8080/",
          "height": 423
        },
        "id": "WiM-NbzTMsHR",
        "outputId": "968bce9c-3388-4e0a-8d96-bb02bec5baf7"
      },
      "outputs": [
        {
          "data": {
            "text/html": [
              "<div>\n",
              "<style scoped>\n",
              "    .dataframe tbody tr th:only-of-type {\n",
              "        vertical-align: middle;\n",
              "    }\n",
              "\n",
              "    .dataframe tbody tr th {\n",
              "        vertical-align: top;\n",
              "    }\n",
              "\n",
              "    .dataframe thead th {\n",
              "        text-align: right;\n",
              "    }\n",
              "</style>\n",
              "<table border=\"1\" class=\"dataframe\">\n",
              "  <thead>\n",
              "    <tr style=\"text-align: right;\">\n",
              "      <th></th>\n",
              "      <th>index</th>\n",
              "      <th>Datetime</th>\n",
              "      <th>Close</th>\n",
              "      <th>High</th>\n",
              "      <th>Low</th>\n",
              "      <th>Open</th>\n",
              "      <th>Volume</th>\n",
              "      <th>SMA_10</th>\n",
              "      <th>SMA_20</th>\n",
              "      <th>SMA_30</th>\n",
              "      <th>Tendencia</th>\n",
              "      <th>RSI</th>\n",
              "    </tr>\n",
              "  </thead>\n",
              "  <tbody>\n",
              "    <tr>\n",
              "      <th>0</th>\n",
              "      <td>34</td>\n",
              "      <td>2025-01-15 20:30:00+00:00</td>\n",
              "      <td>223.339996</td>\n",
              "      <td>223.500000</td>\n",
              "      <td>222.720001</td>\n",
              "      <td>223.110001</td>\n",
              "      <td>2904071</td>\n",
              "      <td>221.125398</td>\n",
              "      <td>219.755494</td>\n",
              "      <td>219.602536</td>\n",
              "      <td>2</td>\n",
              "      <td>56.390601</td>\n",
              "    </tr>\n",
              "    <tr>\n",
              "      <th>1</th>\n",
              "      <td>35</td>\n",
              "      <td>2025-01-16 14:30:00+00:00</td>\n",
              "      <td>223.122101</td>\n",
              "      <td>224.649994</td>\n",
              "      <td>222.529999</td>\n",
              "      <td>224.559998</td>\n",
              "      <td>4892314</td>\n",
              "      <td>221.522609</td>\n",
              "      <td>220.059599</td>\n",
              "      <td>219.647273</td>\n",
              "      <td>2</td>\n",
              "      <td>55.806337</td>\n",
              "    </tr>\n",
              "    <tr>\n",
              "      <th>2</th>\n",
              "      <td>36</td>\n",
              "      <td>2025-01-16 15:30:00+00:00</td>\n",
              "      <td>223.964996</td>\n",
              "      <td>224.509995</td>\n",
              "      <td>222.779999</td>\n",
              "      <td>223.139999</td>\n",
              "      <td>2722173</td>\n",
              "      <td>222.226408</td>\n",
              "      <td>220.363329</td>\n",
              "      <td>219.705772</td>\n",
              "      <td>2</td>\n",
              "      <td>57.595367</td>\n",
              "    </tr>\n",
              "    <tr>\n",
              "      <th>3</th>\n",
              "      <td>37</td>\n",
              "      <td>2025-01-16 16:30:00+00:00</td>\n",
              "      <td>222.513504</td>\n",
              "      <td>224.139999</td>\n",
              "      <td>222.070007</td>\n",
              "      <td>223.949997</td>\n",
              "      <td>1932913</td>\n",
              "      <td>222.699759</td>\n",
              "      <td>220.541004</td>\n",
              "      <td>219.846056</td>\n",
              "      <td>2</td>\n",
              "      <td>53.657969</td>\n",
              "    </tr>\n",
              "    <tr>\n",
              "      <th>4</th>\n",
              "      <td>38</td>\n",
              "      <td>2025-01-16 17:30:00+00:00</td>\n",
              "      <td>221.389999</td>\n",
              "      <td>222.619995</td>\n",
              "      <td>221.350006</td>\n",
              "      <td>222.529999</td>\n",
              "      <td>1865306</td>\n",
              "      <td>222.528259</td>\n",
              "      <td>220.698004</td>\n",
              "      <td>219.966389</td>\n",
              "      <td>2</td>\n",
              "      <td>50.826890</td>\n",
              "    </tr>\n",
              "    <tr>\n",
              "      <th>...</th>\n",
              "      <td>...</td>\n",
              "      <td>...</td>\n",
              "      <td>...</td>\n",
              "      <td>...</td>\n",
              "      <td>...</td>\n",
              "      <td>...</td>\n",
              "      <td>...</td>\n",
              "      <td>...</td>\n",
              "      <td>...</td>\n",
              "      <td>...</td>\n",
              "      <td>...</td>\n",
              "      <td>...</td>\n",
              "    </tr>\n",
              "    <tr>\n",
              "      <th>186</th>\n",
              "      <td>292</td>\n",
              "      <td>2025-03-11 18:30:00+00:00</td>\n",
              "      <td>198.345001</td>\n",
              "      <td>199.949997</td>\n",
              "      <td>196.679993</td>\n",
              "      <td>197.229996</td>\n",
              "      <td>6021045</td>\n",
              "      <td>195.145761</td>\n",
              "      <td>195.826135</td>\n",
              "      <td>198.428604</td>\n",
              "      <td>1</td>\n",
              "      <td>48.051460</td>\n",
              "    </tr>\n",
              "    <tr>\n",
              "      <th>187</th>\n",
              "      <td>293</td>\n",
              "      <td>2025-03-11 19:30:00+00:00</td>\n",
              "      <td>196.500000</td>\n",
              "      <td>198.600006</td>\n",
              "      <td>196.500000</td>\n",
              "      <td>198.360001</td>\n",
              "      <td>3854296</td>\n",
              "      <td>195.477571</td>\n",
              "      <td>195.679885</td>\n",
              "      <td>198.023604</td>\n",
              "      <td>1</td>\n",
              "      <td>45.370343</td>\n",
              "    </tr>\n",
              "    <tr>\n",
              "      <th>188</th>\n",
              "      <td>303</td>\n",
              "      <td>2025-03-13 15:30:00+00:00</td>\n",
              "      <td>193.710007</td>\n",
              "      <td>195.500000</td>\n",
              "      <td>193.494995</td>\n",
              "      <td>194.831207</td>\n",
              "      <td>4338810</td>\n",
              "      <td>197.572841</td>\n",
              "      <td>196.525206</td>\n",
              "      <td>196.310870</td>\n",
              "      <td>2</td>\n",
              "      <td>41.314580</td>\n",
              "    </tr>\n",
              "    <tr>\n",
              "      <th>189</th>\n",
              "      <td>304</td>\n",
              "      <td>2025-03-13 16:30:00+00:00</td>\n",
              "      <td>192.539993</td>\n",
              "      <td>194.429993</td>\n",
              "      <td>191.820007</td>\n",
              "      <td>193.679993</td>\n",
              "      <td>4723846</td>\n",
              "      <td>196.967841</td>\n",
              "      <td>196.534921</td>\n",
              "      <td>196.244704</td>\n",
              "      <td>2</td>\n",
              "      <td>39.661708</td>\n",
              "    </tr>\n",
              "    <tr>\n",
              "      <th>190</th>\n",
              "      <td>305</td>\n",
              "      <td>2025-03-13 17:30:00+00:00</td>\n",
              "      <td>193.899994</td>\n",
              "      <td>193.960007</td>\n",
              "      <td>191.910004</td>\n",
              "      <td>192.500000</td>\n",
              "      <td>3869215</td>\n",
              "      <td>196.679340</td>\n",
              "      <td>196.575920</td>\n",
              "      <td>196.244037</td>\n",
              "      <td>2</td>\n",
              "      <td>42.477486</td>\n",
              "    </tr>\n",
              "  </tbody>\n",
              "</table>\n",
              "<p>191 rows × 12 columns</p>\n",
              "</div>"
            ],
            "text/plain": [
              "     index                  Datetime       Close        High         Low  \\\n",
              "0       34 2025-01-15 20:30:00+00:00  223.339996  223.500000  222.720001   \n",
              "1       35 2025-01-16 14:30:00+00:00  223.122101  224.649994  222.529999   \n",
              "2       36 2025-01-16 15:30:00+00:00  223.964996  224.509995  222.779999   \n",
              "3       37 2025-01-16 16:30:00+00:00  222.513504  224.139999  222.070007   \n",
              "4       38 2025-01-16 17:30:00+00:00  221.389999  222.619995  221.350006   \n",
              "..     ...                       ...         ...         ...         ...   \n",
              "186    292 2025-03-11 18:30:00+00:00  198.345001  199.949997  196.679993   \n",
              "187    293 2025-03-11 19:30:00+00:00  196.500000  198.600006  196.500000   \n",
              "188    303 2025-03-13 15:30:00+00:00  193.710007  195.500000  193.494995   \n",
              "189    304 2025-03-13 16:30:00+00:00  192.539993  194.429993  191.820007   \n",
              "190    305 2025-03-13 17:30:00+00:00  193.899994  193.960007  191.910004   \n",
              "\n",
              "           Open   Volume      SMA_10      SMA_20      SMA_30  Tendencia  \\\n",
              "0    223.110001  2904071  221.125398  219.755494  219.602536          2   \n",
              "1    224.559998  4892314  221.522609  220.059599  219.647273          2   \n",
              "2    223.139999  2722173  222.226408  220.363329  219.705772          2   \n",
              "3    223.949997  1932913  222.699759  220.541004  219.846056          2   \n",
              "4    222.529999  1865306  222.528259  220.698004  219.966389          2   \n",
              "..          ...      ...         ...         ...         ...        ...   \n",
              "186  197.229996  6021045  195.145761  195.826135  198.428604          1   \n",
              "187  198.360001  3854296  195.477571  195.679885  198.023604          1   \n",
              "188  194.831207  4338810  197.572841  196.525206  196.310870          2   \n",
              "189  193.679993  4723846  196.967841  196.534921  196.244704          2   \n",
              "190  192.500000  3869215  196.679340  196.575920  196.244037          2   \n",
              "\n",
              "           RSI  \n",
              "0    56.390601  \n",
              "1    55.806337  \n",
              "2    57.595367  \n",
              "3    53.657969  \n",
              "4    50.826890  \n",
              "..         ...  \n",
              "186  48.051460  \n",
              "187  45.370343  \n",
              "188  41.314580  \n",
              "189  39.661708  \n",
              "190  42.477486  \n",
              "\n",
              "[191 rows x 12 columns]"
            ]
          },
          "execution_count": 7,
          "metadata": {},
          "output_type": "execute_result"
        }
      ],
      "source": [
        "# Determinar en que periodos hubo tendencia de alza y de baja - se guarda en un nuevo dataframe y lo reindexamos\n",
        "df=data[data['Tendencia']!=0]\n",
        "df=df.reset_index()\n",
        "df"
      ]
    },
    {
      "cell_type": "code",
      "execution_count": 8,
      "metadata": {
        "id": "PCoC4MVAMsKL"
      },
      "outputs": [],
      "source": [
        "# Determinar la señal de Compra o Venta y definir el precio de dicha señal\n",
        "df.loc[0,'Señal']=df.loc[0,'Tendencia']\n",
        "for i in range(1,len(df)):\n",
        "    if df.loc[i,'Tendencia']==df.loc[i-1,'Tendencia']:\n",
        "        df.loc[i,'Señal']=0\n",
        "    else:\n",
        "        df.loc[i,'Señal']=df.loc[i,'Tendencia']"
      ]
    },
    {
      "cell_type": "code",
      "execution_count": 9,
      "metadata": {
        "id": "xUUNN69lMsM3"
      },
      "outputs": [],
      "source": [
        "#Corregir la primera fila, en caso de que la primera señal, sea una señal de venta\n",
        "if df.loc[0,'Señal']==1:\n",
        "    df.loc[0,'Señal']=0\n",
        "else:\n",
        "    df.loc[0,'Señal']=2"
      ]
    },
    {
      "cell_type": "code",
      "execution_count": 10,
      "metadata": {
        "colab": {
          "base_uri": "https://localhost:8080/",
          "height": 174
        },
        "id": "I6YgfbueMsPd",
        "outputId": "f4873aaf-a831-4c6c-d9ce-2d83f14118b5"
      },
      "outputs": [
        {
          "data": {
            "text/html": [
              "<div>\n",
              "<style scoped>\n",
              "    .dataframe tbody tr th:only-of-type {\n",
              "        vertical-align: middle;\n",
              "    }\n",
              "\n",
              "    .dataframe tbody tr th {\n",
              "        vertical-align: top;\n",
              "    }\n",
              "\n",
              "    .dataframe thead th {\n",
              "        text-align: right;\n",
              "    }\n",
              "</style>\n",
              "<table border=\"1\" class=\"dataframe\">\n",
              "  <thead>\n",
              "    <tr style=\"text-align: right;\">\n",
              "      <th></th>\n",
              "      <th>level_0</th>\n",
              "      <th>index</th>\n",
              "      <th>Datetime</th>\n",
              "      <th>Close</th>\n",
              "      <th>High</th>\n",
              "      <th>Low</th>\n",
              "      <th>Open</th>\n",
              "      <th>Volume</th>\n",
              "      <th>SMA_10</th>\n",
              "      <th>SMA_20</th>\n",
              "      <th>SMA_30</th>\n",
              "      <th>Tendencia</th>\n",
              "      <th>RSI</th>\n",
              "      <th>Señal</th>\n",
              "    </tr>\n",
              "  </thead>\n",
              "  <tbody>\n",
              "    <tr>\n",
              "      <th>0</th>\n",
              "      <td>0</td>\n",
              "      <td>34</td>\n",
              "      <td>2025-01-15 20:30:00+00:00</td>\n",
              "      <td>223.339996</td>\n",
              "      <td>223.500000</td>\n",
              "      <td>222.720001</td>\n",
              "      <td>223.110001</td>\n",
              "      <td>2904071</td>\n",
              "      <td>221.125398</td>\n",
              "      <td>219.755494</td>\n",
              "      <td>219.602536</td>\n",
              "      <td>2</td>\n",
              "      <td>56.390601</td>\n",
              "      <td>2.0</td>\n",
              "    </tr>\n",
              "    <tr>\n",
              "      <th>1</th>\n",
              "      <td>57</td>\n",
              "      <td>109</td>\n",
              "      <td>2025-01-31 18:30:00+00:00</td>\n",
              "      <td>238.514999</td>\n",
              "      <td>239.634995</td>\n",
              "      <td>237.949997</td>\n",
              "      <td>239.570007</td>\n",
              "      <td>2684278</td>\n",
              "      <td>236.954651</td>\n",
              "      <td>237.039851</td>\n",
              "      <td>237.150104</td>\n",
              "      <td>1</td>\n",
              "      <td>56.713461</td>\n",
              "      <td>1.0</td>\n",
              "    </tr>\n",
              "    <tr>\n",
              "      <th>2</th>\n",
              "      <td>58</td>\n",
              "      <td>119</td>\n",
              "      <td>2025-02-04 14:30:00+00:00</td>\n",
              "      <td>241.440002</td>\n",
              "      <td>241.830002</td>\n",
              "      <td>238.039993</td>\n",
              "      <td>238.925003</td>\n",
              "      <td>7075973</td>\n",
              "      <td>237.889380</td>\n",
              "      <td>237.422015</td>\n",
              "      <td>237.323028</td>\n",
              "      <td>2</td>\n",
              "      <td>61.013637</td>\n",
              "      <td>2.0</td>\n",
              "    </tr>\n",
              "    <tr>\n",
              "      <th>3</th>\n",
              "      <td>70</td>\n",
              "      <td>140</td>\n",
              "      <td>2025-02-07 14:30:00+00:00</td>\n",
              "      <td>229.672501</td>\n",
              "      <td>234.809906</td>\n",
              "      <td>228.500000</td>\n",
              "      <td>232.740005</td>\n",
              "      <td>29094795</td>\n",
              "      <td>236.724171</td>\n",
              "      <td>237.956786</td>\n",
              "      <td>238.109310</td>\n",
              "      <td>1</td>\n",
              "      <td>35.154154</td>\n",
              "      <td>1.0</td>\n",
              "    </tr>\n",
              "    <tr>\n",
              "      <th>4</th>\n",
              "      <td>188</td>\n",
              "      <td>303</td>\n",
              "      <td>2025-03-13 15:30:00+00:00</td>\n",
              "      <td>193.710007</td>\n",
              "      <td>195.500000</td>\n",
              "      <td>193.494995</td>\n",
              "      <td>194.831207</td>\n",
              "      <td>4338810</td>\n",
              "      <td>197.572841</td>\n",
              "      <td>196.525206</td>\n",
              "      <td>196.310870</td>\n",
              "      <td>2</td>\n",
              "      <td>41.314580</td>\n",
              "      <td>2.0</td>\n",
              "    </tr>\n",
              "  </tbody>\n",
              "</table>\n",
              "</div>"
            ],
            "text/plain": [
              "   level_0  index                  Datetime       Close        High  \\\n",
              "0        0     34 2025-01-15 20:30:00+00:00  223.339996  223.500000   \n",
              "1       57    109 2025-01-31 18:30:00+00:00  238.514999  239.634995   \n",
              "2       58    119 2025-02-04 14:30:00+00:00  241.440002  241.830002   \n",
              "3       70    140 2025-02-07 14:30:00+00:00  229.672501  234.809906   \n",
              "4      188    303 2025-03-13 15:30:00+00:00  193.710007  195.500000   \n",
              "\n",
              "          Low        Open    Volume      SMA_10      SMA_20      SMA_30  \\\n",
              "0  222.720001  223.110001   2904071  221.125398  219.755494  219.602536   \n",
              "1  237.949997  239.570007   2684278  236.954651  237.039851  237.150104   \n",
              "2  238.039993  238.925003   7075973  237.889380  237.422015  237.323028   \n",
              "3  228.500000  232.740005  29094795  236.724171  237.956786  238.109310   \n",
              "4  193.494995  194.831207   4338810  197.572841  196.525206  196.310870   \n",
              "\n",
              "   Tendencia        RSI  Señal  \n",
              "0          2  56.390601    2.0  \n",
              "1          1  56.713461    1.0  \n",
              "2          2  61.013637    2.0  \n",
              "3          1  35.154154    1.0  \n",
              "4          2  41.314580    2.0  "
            ]
          },
          "execution_count": 10,
          "metadata": {},
          "output_type": "execute_result"
        }
      ],
      "source": [
        "#Quitar todos los ceros del dataframe con la columna 'Señal'\n",
        "df=df[df['Señal']!=0]\n",
        "\n",
        "#Reindexar finalmente el dataframe\n",
        "df_Final=df.reset_index()\n",
        "df_Final"
      ]
    },
    {
      "cell_type": "code",
      "execution_count": 11,
      "metadata": {
        "id": "FT2Pj45JMsR3"
      },
      "outputs": [],
      "source": [
        "#Calcular el rendimiento de la estrategia\n",
        "for j in range(0,len(df_Final)):\n",
        "    if df_Final.loc[j,'Señal']==1:\n",
        "        df_Final.loc[j,'Rendimiento']=df_Final.loc[j,'Close']*(1-Comision*1.16)/(df_Final.loc[j-1,'Close']*(1+Comision*1.16))-1\n",
        "    else:\n",
        "        df_Final.loc[j,'Rendimiento']=0"
      ]
    },
    {
      "cell_type": "code",
      "execution_count": 12,
      "metadata": {
        "colab": {
          "base_uri": "https://localhost:8080/"
        },
        "id": "--X6OmziMsUg",
        "outputId": "9d62ab6c-378e-4a29-a586-444ef046eb45"
      },
      "outputs": [
        {
          "name": "stderr",
          "output_type": "stream",
          "text": [
            "C:\\Users\\luist\\AppData\\Local\\Temp\\ipykernel_15488\\3650655291.py:4: FutureWarning: Setting an item of incompatible dtype is deprecated and will raise an error in a future version of pandas. Value 'Compra' has dtype incompatible with float64, please explicitly cast to a compatible dtype first.\n",
            "  df_Final.loc[j,'Señal']= \"Compra\"\n"
          ]
        }
      ],
      "source": [
        "#Renombrar la columna 'Señal'\n",
        "for j in range(0,len(df_Final)):\n",
        "    if df_Final.loc[j,'Tendencia']==2:\n",
        "       df_Final.loc[j,'Señal']= \"Compra\"\n",
        "    else:\n",
        "        df_Final.loc[j,'Señal']=\"Venta\""
      ]
    },
    {
      "cell_type": "code",
      "execution_count": 13,
      "metadata": {
        "colab": {
          "base_uri": "https://localhost:8080/",
          "height": 174
        },
        "id": "TMQKrlVpMsXG",
        "outputId": "4f4749c3-251d-4f96-ea50-e0fac3df8c0a"
      },
      "outputs": [
        {
          "data": {
            "text/html": [
              "<div>\n",
              "<style scoped>\n",
              "    .dataframe tbody tr th:only-of-type {\n",
              "        vertical-align: middle;\n",
              "    }\n",
              "\n",
              "    .dataframe tbody tr th {\n",
              "        vertical-align: top;\n",
              "    }\n",
              "\n",
              "    .dataframe thead th {\n",
              "        text-align: right;\n",
              "    }\n",
              "</style>\n",
              "<table border=\"1\" class=\"dataframe\">\n",
              "  <thead>\n",
              "    <tr style=\"text-align: right;\">\n",
              "      <th></th>\n",
              "      <th>index</th>\n",
              "      <th>Datetime</th>\n",
              "      <th>Close</th>\n",
              "      <th>Señal</th>\n",
              "      <th>RSI</th>\n",
              "      <th>Rendimiento</th>\n",
              "    </tr>\n",
              "  </thead>\n",
              "  <tbody>\n",
              "    <tr>\n",
              "      <th>0</th>\n",
              "      <td>34</td>\n",
              "      <td>2025-01-15 20:30:00+00:00</td>\n",
              "      <td>223.339996</td>\n",
              "      <td>Compra</td>\n",
              "      <td>56.390601</td>\n",
              "      <td>0.00000</td>\n",
              "    </tr>\n",
              "    <tr>\n",
              "      <th>1</th>\n",
              "      <td>109</td>\n",
              "      <td>2025-01-31 18:30:00+00:00</td>\n",
              "      <td>238.514999</td>\n",
              "      <td>Venta</td>\n",
              "      <td>56.713461</td>\n",
              "      <td>0.06177</td>\n",
              "    </tr>\n",
              "    <tr>\n",
              "      <th>2</th>\n",
              "      <td>119</td>\n",
              "      <td>2025-02-04 14:30:00+00:00</td>\n",
              "      <td>241.440002</td>\n",
              "      <td>Compra</td>\n",
              "      <td>61.013637</td>\n",
              "      <td>0.00000</td>\n",
              "    </tr>\n",
              "    <tr>\n",
              "      <th>3</th>\n",
              "      <td>140</td>\n",
              "      <td>2025-02-07 14:30:00+00:00</td>\n",
              "      <td>229.672501</td>\n",
              "      <td>Venta</td>\n",
              "      <td>35.154154</td>\n",
              "      <td>-0.05424</td>\n",
              "    </tr>\n",
              "    <tr>\n",
              "      <th>4</th>\n",
              "      <td>303</td>\n",
              "      <td>2025-03-13 15:30:00+00:00</td>\n",
              "      <td>193.710007</td>\n",
              "      <td>Compra</td>\n",
              "      <td>41.314580</td>\n",
              "      <td>0.00000</td>\n",
              "    </tr>\n",
              "  </tbody>\n",
              "</table>\n",
              "</div>"
            ],
            "text/plain": [
              "   index                  Datetime       Close   Señal        RSI  Rendimiento\n",
              "0     34 2025-01-15 20:30:00+00:00  223.339996  Compra  56.390601      0.00000\n",
              "1    109 2025-01-31 18:30:00+00:00  238.514999   Venta  56.713461      0.06177\n",
              "2    119 2025-02-04 14:30:00+00:00  241.440002  Compra  61.013637      0.00000\n",
              "3    140 2025-02-07 14:30:00+00:00  229.672501   Venta  35.154154     -0.05424\n",
              "4    303 2025-03-13 15:30:00+00:00  193.710007  Compra  41.314580      0.00000"
            ]
          },
          "execution_count": 13,
          "metadata": {},
          "output_type": "execute_result"
        }
      ],
      "source": [
        "#Generar un listado de columnas para mi resumen del Dataframe\n",
        "colunmas=['index','Datetime','Close','Señal','RSI','Rendimiento']\n",
        "\n",
        "#Seleccionar las columnas del dataframe 'df_Final'\n",
        "df_Resumen=df_Final[colunmas]\n",
        "df_Resumen\n"
      ]
    },
    {
      "cell_type": "code",
      "execution_count": 14,
      "metadata": {
        "colab": {
          "base_uri": "https://localhost:8080/",
          "height": 335
        },
        "id": "hPU0SNnKNE1T",
        "outputId": "3ad61204-abf6-44fe-e09a-d5e4dcd59381"
      },
      "outputs": [
        {
          "data": {
            "text/plain": [
              "count    2.0000\n",
              "mean     0.0038\n",
              "std      0.0820\n",
              "min     -0.0542\n",
              "25%     -0.0252\n",
              "50%      0.0038\n",
              "75%      0.0328\n",
              "max      0.0618\n",
              "Name: Rendimiento, dtype: float64"
            ]
          },
          "execution_count": 14,
          "metadata": {},
          "output_type": "execute_result"
        }
      ],
      "source": [
        "df_Stats=df_Resumen[df_Resumen['Rendimiento']!=0]\n",
        "df_Stats['Rendimiento'].describe().round(4)"
      ]
    },
    {
      "cell_type": "code",
      "execution_count": 15,
      "metadata": {
        "id": "Czj3vVHsNE4J"
      },
      "outputs": [
        {
          "name": "stderr",
          "output_type": "stream",
          "text": [
            "C:\\Users\\luist\\AppData\\Local\\Temp\\ipykernel_15488\\1747222132.py:4: SettingWithCopyWarning: \n",
            "A value is trying to be set on a copy of a slice from a DataFrame.\n",
            "Try using .loc[row_indexer,col_indexer] = value instead\n",
            "\n",
            "See the caveats in the documentation: https://pandas.pydata.org/pandas-docs/stable/user_guide/indexing.html#returning-a-view-versus-a-copy\n",
            "  df_Resumen.loc[j,'Señal_Compra']=df_Resumen.loc[j,'Close']\n",
            "C:\\Users\\luist\\AppData\\Local\\Temp\\ipykernel_15488\\1747222132.py:6: FutureWarning: Setting an item of incompatible dtype is deprecated and will raise an error in a future version of pandas. Value '' has dtype incompatible with float64, please explicitly cast to a compatible dtype first.\n",
            "  df_Resumen.loc[j,'Señal_Compra']=\"\"\n",
            "C:\\Users\\luist\\AppData\\Local\\Temp\\ipykernel_15488\\1747222132.py:12: SettingWithCopyWarning: \n",
            "A value is trying to be set on a copy of a slice from a DataFrame.\n",
            "Try using .loc[row_indexer,col_indexer] = value instead\n",
            "\n",
            "See the caveats in the documentation: https://pandas.pydata.org/pandas-docs/stable/user_guide/indexing.html#returning-a-view-versus-a-copy\n",
            "  df_Resumen.loc[j,'Señal_Venta']=\"\"\n"
          ]
        }
      ],
      "source": [
        "#Crear una columna que me señale la Compra y a que precio\n",
        "for j in range (0,len(df_Resumen)):\n",
        "    if df_Resumen.loc[j,'Señal']=='Compra':\n",
        "        df_Resumen.loc[j,'Señal_Compra']=df_Resumen.loc[j,'Close']\n",
        "    else:\n",
        "        df_Resumen.loc[j,'Señal_Compra']=\"\"\n",
        "              #Crear Una Columna que me diga la compra y a que precio\n",
        "for j in range(0,len(df_Resumen)):\n",
        "    if df_Resumen.loc[j,'Señal']==\"Venta\":\n",
        "        df_Resumen.loc[j,'Señal_Venta']=df_Resumen.loc[j,'Close']\n",
        "    else:\n",
        "        df_Resumen.loc[j,'Señal_Venta']=\"\""
      ]
    },
    {
      "cell_type": "code",
      "execution_count": 16,
      "metadata": {},
      "outputs": [
        {
          "data": {
            "application/vnd.plotly.v1+json": {
              "config": {
                "plotlyServerURL": "https://plot.ly"
              },
              "data": [
                {
                  "close": {
                    "bdata": "AAAAgMKVa0AAAADA9bBrQAAAAIDrkWtAAAAAwB7da0AAAABAM+trQAAAAMD1uGtAAAAAYLjGa0AAAACAwklrQAAAAMD1OGtAAAAAgBQ2a0AAAABAE31rQAAAAGDDf2tAAAAAgBRea0AAAADgelxrQAAAAEAKL2tAAAAAoEcha0AAAAAgfjxrQAAAAGC4XmtAAAAAAABIa0AAAACgmVFrQAAAAEAKT2tAAAAAIFyHa0AAAABgj1JrQAAAAAB/LGtAAAAAANdPa0AAAADAzGRrQAAAAACqHWtAAAAAwPU4a0AAAAAgXONrQAAAAEAKt2tAAAAA4FGwa0AAAADAHsVrQAAAAIAUzmtAAAAAYOfja0AAAABA4eprQAAAAEDo42tAAAAAQOH+a0AAAACgbtBrQAAAAOB6rGtAAAAAACmoa0AAAAAAKaxrQAAAAMDMlGtAAAAAYI/6a0AAAAAA1ytsQAAAAKCZGWxAAAAAwNE0bEAAAACgmTVsQAAAAOCjOGxAAAAAgBQ+bEAAAAAAKYxsQAAAAGCPsmxAAAAAwMzsbEAAAACAPeJsQAAAAOAd3WxAAAAAQArXbEAAAABgZtZsQAAAAKBHZW1AAAAA4HpUbUAAAAAg4kptQAAAAEAKH21AAAAAYLgmbUAAAADgaC5tQAAAAOBRYG1AAAAAoEdJbUAAAACgcE1tQAAAAAApKG1AAAAAIK4zbUAAAACgmTFtQAAAAEAKT21AAAAAwMxsbUAAAADAzFBtQAAAAMAeTW1AAAAA4FE4bUAAAAAghT9tQAAAAEDhKm1AAAAAIK4vbUAAAABAM1ttQAAAAKCZAW1AAAAAoEcBbUAAAAAgrgdtQAAAAOB6BG1AAAAAAABQbUAAAADA9RhtQAAAAIAUbm1AAAAAYGQDbkAAAAAA1/ttQAAAAEDhIm5AAAAAAIbrbUAAAAAAKfBtQAAAAKBH3W1AAAAAQArHbUAAAABgj8JtQAAAAOBGuW1AAAAAIDjPbUAAAAAAALRtQAAAAGC4lm1AAAAAIFy/bUAAAACgmaFtQAAAAEAza21AAAAAQAo/bUAAAAAghUttQAAAAEAKV21AAAAAAABgbUAAAADAIH5tQAAAAEAzU21AAAAA4FHEbUAAAABgZtptQAAAAIA9+m1AAAAAACn0bUAAAADgetBtQAAAAGBmpm1AAAAAQOGybUAAAADgo2htQAAAAEAjpG1AAAAA4CvRbUAAAAAAZsdtQAAAAADXv21AAAAAoAPBbUAAAABACq9tQAAAAIAULm5AAAAAwGRObkAAAADgeiRuQAAAAMDzJ25AAAAAwPVEbkAAAADAzDhuQAAAAEDhQm5AAAAAoO+pbUAAAAAghXdtQAAAAIDrmW1AAAAA4KOobUAAAAAghYttQAAAAKA8iG1AAAAAACmEbUAAAACAFKZtQAAAAIA9sm1AAAAAIHOvbUAAAAAgXLttQAAAAKDE1m1AAAAAACm0bUAAAACAwtdtQAAAACCFtWxAAAAAIIWjbEAAAADA9aBsQAAAAGCPymxAAAAAgOudbEAAAADAzJxsQAAAAOCjqGxAAAAAoJkxbUAAAABgjyJtQAAAAOB6/GxAAAAAYLgObUAAAACgRyFtQAAAAEDhMm1AAAAAACkkbUAAAABAHhZtQAAAAGBb62xAAAAAAADgbEAAAABguPpsQAAAAKBw9WxAAAAAgD0KbUAAAACA6xltQAAAAEAzu2xAAAAAIIWzbEAAAADgethsQAAAAAAp3GxAAAAAANXWbEAAAAAgXLtsQAAAAMDMnGxAAAAAIB+wbEAAAAAA15NsQAAAACCug2xAAAAAoHCFbEAAAACA2aVsQAAAAOBRtGxAAAAAIIXLbEAAAACgR3lsQAAAACBcl2xAAAAAwGuJbEAAAACgcJVsQAAAAIDrnWxAAAAAgMKVbEAAAACAwpVsQAAAAAAgJmxAAAAAQLQebEAAAABAMw9sQAAAAMBLA2xAAAAA4OIMbEAAAABA4RJsQAAAAKBwVWxAAAAA4FEAbEAAAADgoxBsQAAAAODXE2xAAAAA4HoYbEAAAAAgri9sQAAAAKBHQWxAAAAAoHBVbEAAAABguO5rQAAAACCF02tAAAAAQArXa0AAAABAM8trQAAAAKBH0WtAAAAAgBTWa0AAAAAA19trQAAAAADXb2tAAAAA4Hpoa0AAAAAAKTRrQAAAACCXAWtAAAAAYLjeakAAAACgEw5rQAAAACCuD2tAAAAAwFK0akAAAACAFMZqQAAAAGBm1mpAAAAAICHfakAAAACAydJqQAAAAKBcyGpAAAAAIFyXakAAAAAgruNpQAAAAEAKv2lAAAAAgMf5aUAAAADA9TBqQAAAAOBRWGpAAAAAoEeRakAAAACgmZlqQAAAAMAeHWtAAAAAACkca0AAAACAPSJrQAAAAIDC1WpAAAAA4KO4akAAAABACrdqQAAAAOCjyGpAAAAAwB7NakAAAACAesNqQAAAAMD1tGpAAAAAAAC4akAAAABA4WJqQAAAAIDrOWpAAAAAgD0aakAAAACgYFJqQAAAAADXK2pAAAAAwB4pakAAAACgZRBqQAAAAOB6BmpAAAAA4KM4akAAAACgmYlqQAAAAKBwVWpAAAAAoHAVakAAAABgdidqQAAAACCF62lAAAAAIK7naUAAAAAgXIdpQAAAAIDroWlAAAAAQDPLaEAAAADA9exoQAAAAIAUYmlAAAAAwMxcaUAAAABAM5tpQAAAAGBmxmlAAAAAQDN7aUAAAACAPaZpQAAAAIA9rmlAAAAAQArraUAAAACAwvVpQAAAAMDMFGpAAAAAgDYjakAAAABguA5qQAAAAADXo2lAAAAAYLh6aUAAAACAFCppQAAAAGC4GmlAAAAAoJnZaEAAAADgo/BoQAAAAGBmFmlAAAAAoJntaEAAAADAzFBoQAAAAKBwPWhAAAAAgB+laEAAAABguAppQAAAAOB65GhAAAAA4KPoaEAAAACA6yloQAAAAEDhSmhAAAAA4Ho0aEAAAAAg0iVoQAAAAAAQC2hAAAAAYI8iaEAAAADAHlVoQAAAAEAzb2hAAAAAIIWjaEAAAABgZo5oQAAAAKCZMWhAAAAA4FGoaEAAAABACstoQAAAAAAAkGhAAAAAQOHSaEAAAADAHploQAAAAOCj8GhAAAAAYN7taEAAAABACudoQAAAAOB64GhAAAAA4HrcaEAAAABA4XZoQAAAAEAzW2hAAAAAYLg2aEAAAACgRxFoQAAAAMDMPGhAAAAAgOshaEAAAADAHj1oQA==",
                    "dtype": "f8"
                  },
                  "high": {
                    "bdata": "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",
                    "dtype": "f8"
                  },
                  "low": {
                    "bdata": "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",
                    "dtype": "f8"
                  },
                  "open": {
                    "bdata": "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",
                    "dtype": "f8"
                  },
                  "type": "candlestick",
                  "x": {
                    "bdata": "AAABAAIAAwAEAAUABgAHAAgACQAKAAsADAANAA4ADwAQABEAEgATABQAFQAWABcAGAAZABoAGwAcAB0AHgAfACAAIQAiACMAJAAlACYAJwAoACkAKgArACwALQAuAC8AMAAxADIAMwA0ADUANgA3ADgAOQA6ADsAPAA9AD4APwBAAEEAQgBDAEQARQBGAEcASABJAEoASwBMAE0ATgBPAFAAUQBSAFMAVABVAFYAVwBYAFkAWgBbAFwAXQBeAF8AYABhAGIAYwBkAGUAZgBnAGgAaQBqAGsAbABtAG4AbwBwAHEAcgBzAHQAdQB2AHcAeAB5AHoAewB8AH0AfgB/AIAAgQCCAIMAhACFAIYAhwCIAIkAigCLAIwAjQCOAI8AkACRAJIAkwCUAJUAlgCXAJgAmQCaAJsAnACdAJ4AnwCgAKEAogCjAKQApQCmAKcAqACpAKoAqwCsAK0ArgCvALAAsQCyALMAtAC1ALYAtwC4ALkAugC7ALwAvQC+AL8AwADBAMIAwwDEAMUAxgDHAMgAyQDKAMsAzADNAM4AzwDQANEA0gDTANQA1QDWANcA2ADZANoA2wDcAN0A3gDfAOAA4QDiAOMA5ADlAOYA5wDoAOkA6gDrAOwA7QDuAO8A8ADxAPIA8wD0APUA9gD3APgA+QD6APsA/AD9AP4A/wAAAQEBAgEDAQQBBQEGAQcBCAEJAQoBCwEMAQ0BDgEPARABEQESARMBFAEVARYBFwEYARkBGgEbARwBHQEeAR8BIAEhASIBIwEkASUBJgEnASgBKQEqASsBLAEtAS4BLwEwATEBMgEzAQ==",
                    "dtype": "i2"
                  }
                },
                {
                  "line": {
                    "color": "blue"
                  },
                  "mode": "lines",
                  "name": "SMA 10",
                  "type": "scatter",
                  "x": {
                    "bdata": "AAABAAIAAwAEAAUABgAHAAgACQAKAAsADAANAA4ADwAQABEAEgATABQAFQAWABcAGAAZABoAGwAcAB0AHgAfACAAIQAiACMAJAAlACYAJwAoACkAKgArACwALQAuAC8AMAAxADIAMwA0ADUANgA3ADgAOQA6ADsAPAA9AD4APwBAAEEAQgBDAEQARQBGAEcASABJAEoASwBMAE0ATgBPAFAAUQBSAFMAVABVAFYAVwBYAFkAWgBbAFwAXQBeAF8AYABhAGIAYwBkAGUAZgBnAGgAaQBqAGsAbABtAG4AbwBwAHEAcgBzAHQAdQB2AHcAeAB5AHoAewB8AH0AfgB/AIAAgQCCAIMAhACFAIYAhwCIAIkAigCLAIwAjQCOAI8AkACRAJIAkwCUAJUAlgCXAJgAmQCaAJsAnACdAJ4AnwCgAKEAogCjAKQApQCmAKcAqACpAKoAqwCsAK0ArgCvALAAsQCyALMAtAC1ALYAtwC4ALkAugC7ALwAvQC+AL8AwADBAMIAwwDEAMUAxgDHAMgAyQDKAMsAzADNAM4AzwDQANEA0gDTANQA1QDWANcA2ADZANoA2wDcAN0A3gDfAOAA4QDiAOMA5ADlAOYA5wDoAOkA6gDrAOwA7QDuAO8A8ADxAPIA8wD0APUA9gD3APgA+QD6APsA/AD9AP4A/wAAAQEBAgEDAQQBBQEGAQcBCAEJAQoBCwEMAQ0BDgEPARABEQESARMBFAEVARYBFwEYARkBGgEbARwBHQEeAR8BIAEhASIBIwEkASUBJgEnASgBKQEqASsBLAEtAS4BLwEwATEBMgEzAQ==",
                    "dtype": "i2"
                  },
                  "y": {
                    "bdata": "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",
                    "dtype": "f8"
                  }
                },
                {
                  "line": {
                    "color": "red"
                  },
                  "mode": "lines",
                  "name": "SMA 20",
                  "type": "scatter",
                  "x": {
                    "bdata": "AAABAAIAAwAEAAUABgAHAAgACQAKAAsADAANAA4ADwAQABEAEgATABQAFQAWABcAGAAZABoAGwAcAB0AHgAfACAAIQAiACMAJAAlACYAJwAoACkAKgArACwALQAuAC8AMAAxADIAMwA0ADUANgA3ADgAOQA6ADsAPAA9AD4APwBAAEEAQgBDAEQARQBGAEcASABJAEoASwBMAE0ATgBPAFAAUQBSAFMAVABVAFYAVwBYAFkAWgBbAFwAXQBeAF8AYABhAGIAYwBkAGUAZgBnAGgAaQBqAGsAbABtAG4AbwBwAHEAcgBzAHQAdQB2AHcAeAB5AHoAewB8AH0AfgB/AIAAgQCCAIMAhACFAIYAhwCIAIkAigCLAIwAjQCOAI8AkACRAJIAkwCUAJUAlgCXAJgAmQCaAJsAnACdAJ4AnwCgAKEAogCjAKQApQCmAKcAqACpAKoAqwCsAK0ArgCvALAAsQCyALMAtAC1ALYAtwC4ALkAugC7ALwAvQC+AL8AwADBAMIAwwDEAMUAxgDHAMgAyQDKAMsAzADNAM4AzwDQANEA0gDTANQA1QDWANcA2ADZANoA2wDcAN0A3gDfAOAA4QDiAOMA5ADlAOYA5wDoAOkA6gDrAOwA7QDuAO8A8ADxAPIA8wD0APUA9gD3APgA+QD6APsA/AD9AP4A/wAAAQEBAgEDAQQBBQEGAQcBCAEJAQoBCwEMAQ0BDgEPARABEQESARMBFAEVARYBFwEYARkBGgEbARwBHQEeAR8BIAEhASIBIwEkASUBJgEnASgBKQEqASsBLAEtAS4BLwEwATEBMgEzAQ==",
                    "dtype": "i2"
                  },
                  "y": {
                    "bdata": "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",
                    "dtype": "f8"
                  }
                },
                {
                  "line": {
                    "color": "green"
                  },
                  "mode": "lines",
                  "name": "SMA 30",
                  "type": "scatter",
                  "x": {
                    "bdata": "AAABAAIAAwAEAAUABgAHAAgACQAKAAsADAANAA4ADwAQABEAEgATABQAFQAWABcAGAAZABoAGwAcAB0AHgAfACAAIQAiACMAJAAlACYAJwAoACkAKgArACwALQAuAC8AMAAxADIAMwA0ADUANgA3ADgAOQA6ADsAPAA9AD4APwBAAEEAQgBDAEQARQBGAEcASABJAEoASwBMAE0ATgBPAFAAUQBSAFMAVABVAFYAVwBYAFkAWgBbAFwAXQBeAF8AYABhAGIAYwBkAGUAZgBnAGgAaQBqAGsAbABtAG4AbwBwAHEAcgBzAHQAdQB2AHcAeAB5AHoAewB8AH0AfgB/AIAAgQCCAIMAhACFAIYAhwCIAIkAigCLAIwAjQCOAI8AkACRAJIAkwCUAJUAlgCXAJgAmQCaAJsAnACdAJ4AnwCgAKEAogCjAKQApQCmAKcAqACpAKoAqwCsAK0ArgCvALAAsQCyALMAtAC1ALYAtwC4ALkAugC7ALwAvQC+AL8AwADBAMIAwwDEAMUAxgDHAMgAyQDKAMsAzADNAM4AzwDQANEA0gDTANQA1QDWANcA2ADZANoA2wDcAN0A3gDfAOAA4QDiAOMA5ADlAOYA5wDoAOkA6gDrAOwA7QDuAO8A8ADxAPIA8wD0APUA9gD3APgA+QD6APsA/AD9AP4A/wAAAQEBAgEDAQQBBQEGAQcBCAEJAQoBCwEMAQ0BDgEPARABEQESARMBFAEVARYBFwEYARkBGgEbARwBHQEeAR8BIAEhASIBIwEkASUBJgEnASgBKQEqASsBLAEtAS4BLwEwATEBMgEzAQ==",
                    "dtype": "i2"
                  },
                  "y": {
                    "bdata": "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",
                    "dtype": "f8"
                  }
                },
                {
                  "marker": {
                    "color": "Black",
                    "size": 8
                  },
                  "mode": "markers",
                  "name": "Compra",
                  "type": "scatter",
                  "x": {
                    "bdata": "IgBtAHcAjAAvAQ==",
                    "dtype": "i2"
                  },
                  "y": [
                    223.33999633789062,
                    "",
                    241.44000244140625,
                    "",
                    193.7100067138672
                  ]
                },
                {
                  "marker": {
                    "color": "Yellow",
                    "size": 8
                  },
                  "mode": "markers",
                  "name": "Venta",
                  "type": "scatter",
                  "x": {
                    "bdata": "IgBtAHcAjAAvAQ==",
                    "dtype": "i2"
                  },
                  "y": [
                    "",
                    238.51499938964844,
                    "",
                    229.67250061035156,
                    ""
                  ]
                }
              ],
              "layout": {
                "template": {
                  "data": {
                    "bar": [
                      {
                        "error_x": {
                          "color": "#2a3f5f"
                        },
                        "error_y": {
                          "color": "#2a3f5f"
                        },
                        "marker": {
                          "line": {
                            "color": "#E5ECF6",
                            "width": 0.5
                          },
                          "pattern": {
                            "fillmode": "overlay",
                            "size": 10,
                            "solidity": 0.2
                          }
                        },
                        "type": "bar"
                      }
                    ],
                    "barpolar": [
                      {
                        "marker": {
                          "line": {
                            "color": "#E5ECF6",
                            "width": 0.5
                          },
                          "pattern": {
                            "fillmode": "overlay",
                            "size": 10,
                            "solidity": 0.2
                          }
                        },
                        "type": "barpolar"
                      }
                    ],
                    "carpet": [
                      {
                        "aaxis": {
                          "endlinecolor": "#2a3f5f",
                          "gridcolor": "white",
                          "linecolor": "white",
                          "minorgridcolor": "white",
                          "startlinecolor": "#2a3f5f"
                        },
                        "baxis": {
                          "endlinecolor": "#2a3f5f",
                          "gridcolor": "white",
                          "linecolor": "white",
                          "minorgridcolor": "white",
                          "startlinecolor": "#2a3f5f"
                        },
                        "type": "carpet"
                      }
                    ],
                    "choropleth": [
                      {
                        "colorbar": {
                          "outlinewidth": 0,
                          "ticks": ""
                        },
                        "type": "choropleth"
                      }
                    ],
                    "contour": [
                      {
                        "colorbar": {
                          "outlinewidth": 0,
                          "ticks": ""
                        },
                        "colorscale": [
                          [
                            0,
                            "#0d0887"
                          ],
                          [
                            0.1111111111111111,
                            "#46039f"
                          ],
                          [
                            0.2222222222222222,
                            "#7201a8"
                          ],
                          [
                            0.3333333333333333,
                            "#9c179e"
                          ],
                          [
                            0.4444444444444444,
                            "#bd3786"
                          ],
                          [
                            0.5555555555555556,
                            "#d8576b"
                          ],
                          [
                            0.6666666666666666,
                            "#ed7953"
                          ],
                          [
                            0.7777777777777778,
                            "#fb9f3a"
                          ],
                          [
                            0.8888888888888888,
                            "#fdca26"
                          ],
                          [
                            1,
                            "#f0f921"
                          ]
                        ],
                        "type": "contour"
                      }
                    ],
                    "contourcarpet": [
                      {
                        "colorbar": {
                          "outlinewidth": 0,
                          "ticks": ""
                        },
                        "type": "contourcarpet"
                      }
                    ],
                    "heatmap": [
                      {
                        "colorbar": {
                          "outlinewidth": 0,
                          "ticks": ""
                        },
                        "colorscale": [
                          [
                            0,
                            "#0d0887"
                          ],
                          [
                            0.1111111111111111,
                            "#46039f"
                          ],
                          [
                            0.2222222222222222,
                            "#7201a8"
                          ],
                          [
                            0.3333333333333333,
                            "#9c179e"
                          ],
                          [
                            0.4444444444444444,
                            "#bd3786"
                          ],
                          [
                            0.5555555555555556,
                            "#d8576b"
                          ],
                          [
                            0.6666666666666666,
                            "#ed7953"
                          ],
                          [
                            0.7777777777777778,
                            "#fb9f3a"
                          ],
                          [
                            0.8888888888888888,
                            "#fdca26"
                          ],
                          [
                            1,
                            "#f0f921"
                          ]
                        ],
                        "type": "heatmap"
                      }
                    ],
                    "histogram": [
                      {
                        "marker": {
                          "pattern": {
                            "fillmode": "overlay",
                            "size": 10,
                            "solidity": 0.2
                          }
                        },
                        "type": "histogram"
                      }
                    ],
                    "histogram2d": [
                      {
                        "colorbar": {
                          "outlinewidth": 0,
                          "ticks": ""
                        },
                        "colorscale": [
                          [
                            0,
                            "#0d0887"
                          ],
                          [
                            0.1111111111111111,
                            "#46039f"
                          ],
                          [
                            0.2222222222222222,
                            "#7201a8"
                          ],
                          [
                            0.3333333333333333,
                            "#9c179e"
                          ],
                          [
                            0.4444444444444444,
                            "#bd3786"
                          ],
                          [
                            0.5555555555555556,
                            "#d8576b"
                          ],
                          [
                            0.6666666666666666,
                            "#ed7953"
                          ],
                          [
                            0.7777777777777778,
                            "#fb9f3a"
                          ],
                          [
                            0.8888888888888888,
                            "#fdca26"
                          ],
                          [
                            1,
                            "#f0f921"
                          ]
                        ],
                        "type": "histogram2d"
                      }
                    ],
                    "histogram2dcontour": [
                      {
                        "colorbar": {
                          "outlinewidth": 0,
                          "ticks": ""
                        },
                        "colorscale": [
                          [
                            0,
                            "#0d0887"
                          ],
                          [
                            0.1111111111111111,
                            "#46039f"
                          ],
                          [
                            0.2222222222222222,
                            "#7201a8"
                          ],
                          [
                            0.3333333333333333,
                            "#9c179e"
                          ],
                          [
                            0.4444444444444444,
                            "#bd3786"
                          ],
                          [
                            0.5555555555555556,
                            "#d8576b"
                          ],
                          [
                            0.6666666666666666,
                            "#ed7953"
                          ],
                          [
                            0.7777777777777778,
                            "#fb9f3a"
                          ],
                          [
                            0.8888888888888888,
                            "#fdca26"
                          ],
                          [
                            1,
                            "#f0f921"
                          ]
                        ],
                        "type": "histogram2dcontour"
                      }
                    ],
                    "mesh3d": [
                      {
                        "colorbar": {
                          "outlinewidth": 0,
                          "ticks": ""
                        },
                        "type": "mesh3d"
                      }
                    ],
                    "parcoords": [
                      {
                        "line": {
                          "colorbar": {
                            "outlinewidth": 0,
                            "ticks": ""
                          }
                        },
                        "type": "parcoords"
                      }
                    ],
                    "pie": [
                      {
                        "automargin": true,
                        "type": "pie"
                      }
                    ],
                    "scatter": [
                      {
                        "fillpattern": {
                          "fillmode": "overlay",
                          "size": 10,
                          "solidity": 0.2
                        },
                        "type": "scatter"
                      }
                    ],
                    "scatter3d": [
                      {
                        "line": {
                          "colorbar": {
                            "outlinewidth": 0,
                            "ticks": ""
                          }
                        },
                        "marker": {
                          "colorbar": {
                            "outlinewidth": 0,
                            "ticks": ""
                          }
                        },
                        "type": "scatter3d"
                      }
                    ],
                    "scattercarpet": [
                      {
                        "marker": {
                          "colorbar": {
                            "outlinewidth": 0,
                            "ticks": ""
                          }
                        },
                        "type": "scattercarpet"
                      }
                    ],
                    "scattergeo": [
                      {
                        "marker": {
                          "colorbar": {
                            "outlinewidth": 0,
                            "ticks": ""
                          }
                        },
                        "type": "scattergeo"
                      }
                    ],
                    "scattergl": [
                      {
                        "marker": {
                          "colorbar": {
                            "outlinewidth": 0,
                            "ticks": ""
                          }
                        },
                        "type": "scattergl"
                      }
                    ],
                    "scattermap": [
                      {
                        "marker": {
                          "colorbar": {
                            "outlinewidth": 0,
                            "ticks": ""
                          }
                        },
                        "type": "scattermap"
                      }
                    ],
                    "scattermapbox": [
                      {
                        "marker": {
                          "colorbar": {
                            "outlinewidth": 0,
                            "ticks": ""
                          }
                        },
                        "type": "scattermapbox"
                      }
                    ],
                    "scatterpolar": [
                      {
                        "marker": {
                          "colorbar": {
                            "outlinewidth": 0,
                            "ticks": ""
                          }
                        },
                        "type": "scatterpolar"
                      }
                    ],
                    "scatterpolargl": [
                      {
                        "marker": {
                          "colorbar": {
                            "outlinewidth": 0,
                            "ticks": ""
                          }
                        },
                        "type": "scatterpolargl"
                      }
                    ],
                    "scatterternary": [
                      {
                        "marker": {
                          "colorbar": {
                            "outlinewidth": 0,
                            "ticks": ""
                          }
                        },
                        "type": "scatterternary"
                      }
                    ],
                    "surface": [
                      {
                        "colorbar": {
                          "outlinewidth": 0,
                          "ticks": ""
                        },
                        "colorscale": [
                          [
                            0,
                            "#0d0887"
                          ],
                          [
                            0.1111111111111111,
                            "#46039f"
                          ],
                          [
                            0.2222222222222222,
                            "#7201a8"
                          ],
                          [
                            0.3333333333333333,
                            "#9c179e"
                          ],
                          [
                            0.4444444444444444,
                            "#bd3786"
                          ],
                          [
                            0.5555555555555556,
                            "#d8576b"
                          ],
                          [
                            0.6666666666666666,
                            "#ed7953"
                          ],
                          [
                            0.7777777777777778,
                            "#fb9f3a"
                          ],
                          [
                            0.8888888888888888,
                            "#fdca26"
                          ],
                          [
                            1,
                            "#f0f921"
                          ]
                        ],
                        "type": "surface"
                      }
                    ],
                    "table": [
                      {
                        "cells": {
                          "fill": {
                            "color": "#EBF0F8"
                          },
                          "line": {
                            "color": "white"
                          }
                        },
                        "header": {
                          "fill": {
                            "color": "#C8D4E3"
                          },
                          "line": {
                            "color": "white"
                          }
                        },
                        "type": "table"
                      }
                    ]
                  },
                  "layout": {
                    "annotationdefaults": {
                      "arrowcolor": "#2a3f5f",
                      "arrowhead": 0,
                      "arrowwidth": 1
                    },
                    "autotypenumbers": "strict",
                    "coloraxis": {
                      "colorbar": {
                        "outlinewidth": 0,
                        "ticks": ""
                      }
                    },
                    "colorscale": {
                      "diverging": [
                        [
                          0,
                          "#8e0152"
                        ],
                        [
                          0.1,
                          "#c51b7d"
                        ],
                        [
                          0.2,
                          "#de77ae"
                        ],
                        [
                          0.3,
                          "#f1b6da"
                        ],
                        [
                          0.4,
                          "#fde0ef"
                        ],
                        [
                          0.5,
                          "#f7f7f7"
                        ],
                        [
                          0.6,
                          "#e6f5d0"
                        ],
                        [
                          0.7,
                          "#b8e186"
                        ],
                        [
                          0.8,
                          "#7fbc41"
                        ],
                        [
                          0.9,
                          "#4d9221"
                        ],
                        [
                          1,
                          "#276419"
                        ]
                      ],
                      "sequential": [
                        [
                          0,
                          "#0d0887"
                        ],
                        [
                          0.1111111111111111,
                          "#46039f"
                        ],
                        [
                          0.2222222222222222,
                          "#7201a8"
                        ],
                        [
                          0.3333333333333333,
                          "#9c179e"
                        ],
                        [
                          0.4444444444444444,
                          "#bd3786"
                        ],
                        [
                          0.5555555555555556,
                          "#d8576b"
                        ],
                        [
                          0.6666666666666666,
                          "#ed7953"
                        ],
                        [
                          0.7777777777777778,
                          "#fb9f3a"
                        ],
                        [
                          0.8888888888888888,
                          "#fdca26"
                        ],
                        [
                          1,
                          "#f0f921"
                        ]
                      ],
                      "sequentialminus": [
                        [
                          0,
                          "#0d0887"
                        ],
                        [
                          0.1111111111111111,
                          "#46039f"
                        ],
                        [
                          0.2222222222222222,
                          "#7201a8"
                        ],
                        [
                          0.3333333333333333,
                          "#9c179e"
                        ],
                        [
                          0.4444444444444444,
                          "#bd3786"
                        ],
                        [
                          0.5555555555555556,
                          "#d8576b"
                        ],
                        [
                          0.6666666666666666,
                          "#ed7953"
                        ],
                        [
                          0.7777777777777778,
                          "#fb9f3a"
                        ],
                        [
                          0.8888888888888888,
                          "#fdca26"
                        ],
                        [
                          1,
                          "#f0f921"
                        ]
                      ]
                    },
                    "colorway": [
                      "#636efa",
                      "#EF553B",
                      "#00cc96",
                      "#ab63fa",
                      "#FFA15A",
                      "#19d3f3",
                      "#FF6692",
                      "#B6E880",
                      "#FF97FF",
                      "#FECB52"
                    ],
                    "font": {
                      "color": "#2a3f5f"
                    },
                    "geo": {
                      "bgcolor": "white",
                      "lakecolor": "white",
                      "landcolor": "#E5ECF6",
                      "showlakes": true,
                      "showland": true,
                      "subunitcolor": "white"
                    },
                    "hoverlabel": {
                      "align": "left"
                    },
                    "hovermode": "closest",
                    "mapbox": {
                      "style": "light"
                    },
                    "paper_bgcolor": "white",
                    "plot_bgcolor": "#E5ECF6",
                    "polar": {
                      "angularaxis": {
                        "gridcolor": "white",
                        "linecolor": "white",
                        "ticks": ""
                      },
                      "bgcolor": "#E5ECF6",
                      "radialaxis": {
                        "gridcolor": "white",
                        "linecolor": "white",
                        "ticks": ""
                      }
                    },
                    "scene": {
                      "xaxis": {
                        "backgroundcolor": "#E5ECF6",
                        "gridcolor": "white",
                        "gridwidth": 2,
                        "linecolor": "white",
                        "showbackground": true,
                        "ticks": "",
                        "zerolinecolor": "white"
                      },
                      "yaxis": {
                        "backgroundcolor": "#E5ECF6",
                        "gridcolor": "white",
                        "gridwidth": 2,
                        "linecolor": "white",
                        "showbackground": true,
                        "ticks": "",
                        "zerolinecolor": "white"
                      },
                      "zaxis": {
                        "backgroundcolor": "#E5ECF6",
                        "gridcolor": "white",
                        "gridwidth": 2,
                        "linecolor": "white",
                        "showbackground": true,
                        "ticks": "",
                        "zerolinecolor": "white"
                      }
                    },
                    "shapedefaults": {
                      "line": {
                        "color": "#2a3f5f"
                      }
                    },
                    "ternary": {
                      "aaxis": {
                        "gridcolor": "white",
                        "linecolor": "white",
                        "ticks": ""
                      },
                      "baxis": {
                        "gridcolor": "white",
                        "linecolor": "white",
                        "ticks": ""
                      },
                      "bgcolor": "#E5ECF6",
                      "caxis": {
                        "gridcolor": "white",
                        "linecolor": "white",
                        "ticks": ""
                      }
                    },
                    "title": {
                      "x": 0.05
                    },
                    "xaxis": {
                      "automargin": true,
                      "gridcolor": "white",
                      "linecolor": "white",
                      "ticks": "",
                      "title": {
                        "standoff": 15
                      },
                      "zerolinecolor": "white",
                      "zerolinewidth": 2
                    },
                    "yaxis": {
                      "automargin": true,
                      "gridcolor": "white",
                      "linecolor": "white",
                      "ticks": "",
                      "title": {
                        "standoff": 15
                      },
                      "zerolinecolor": "white",
                      "zerolinewidth": 2
                    }
                  }
                }
              }
            }
          },
          "metadata": {},
          "output_type": "display_data"
        }
      ],
      "source": [
        "# Grafico de Velas Japonesas Y Marcadores de Compra y Venta\n",
        "grafico=data[:]\n",
        "fig=go.Figure(data=[go.Candlestick(x=grafico.index,\n",
        "                                    open=grafico['Open'],\n",
        "                                    high=grafico['High'],\n",
        "                                    low=grafico['Low'],\n",
        "                                    close=grafico['Close'])])\n",
        "#Agregamos los Promedios Moviles\n",
        "fig.add_trace(go.Scatter(x=grafico.index,y=grafico['SMA_10'],mode='lines',name='SMA 10',line=dict(color='blue')))\n",
        "fig.add_trace(go.Scatter(x=grafico.index,y=grafico['SMA_20'],mode='lines',name='SMA 20',line=dict(color='red')))\n",
        "fig.add_trace(go.Scatter(x=grafico.index,y=grafico['SMA_30'],mode='lines',name='SMA 30',line=dict(color='green')))\n",
        "\n",
        "# Agregramos marcas de compra y venta \n",
        "fig.add_scatter(x=df_Resumen['index'],y=df_Resumen['Señal_Compra'],mode='markers',marker=dict(size=8,color='Black'),name='Compra')\n",
        "fig.add_scatter(x=df_Resumen['index'],y=df_Resumen['Señal_Venta'],mode='markers',marker=dict(size=8,color='Yellow'),name='Venta')\n",
        "\n",
        "fig.show()"
      ]
    }
  ],
  "metadata": {
    "colab": {
      "provenance": []
    },
    "kernelspec": {
      "display_name": "base",
      "language": "python",
      "name": "python3"
    },
    "language_info": {
      "codemirror_mode": {
        "name": "ipython",
        "version": 3
      },
      "file_extension": ".py",
      "mimetype": "text/x-python",
      "name": "python",
      "nbconvert_exporter": "python",
      "pygments_lexer": "ipython3",
      "version": "3.12.6"
    }
  },
  "nbformat": 4,
  "nbformat_minor": 0
}
